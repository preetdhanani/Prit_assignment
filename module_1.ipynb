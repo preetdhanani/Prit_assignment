{
 "cells": [
  {
   "cell_type": "code",
   "execution_count": null,
   "id": "98cb2b57",
   "metadata": {},
   "outputs": [],
   "source": [
    "What is Software?\n",
    "\n",
    "->Software is nothing but a collection of Computer programs and related documents that are\n",
    "      intended to provide desired features."
   ]
  },
  {
   "cell_type": "code",
   "execution_count": null,
   "id": "18038237",
   "metadata": {},
   "outputs": [],
   "source": [
    "What are the types of Applications?\n",
    "\n",
    "->Typically there are three types of Applications\n",
    " 1 Web Application\n",
    " 2 Mobile Application\n",
    " 3 Desktop Application\n",
    "   \n",
    " "
   ]
  },
  {
   "cell_type": "code",
   "execution_count": null,
   "id": "404cf554",
   "metadata": {},
   "outputs": [],
   "source": [
    "What is Programming?\n",
    "\n",
    "->Programming is the process of creating a set of instructions that tell a computer how to\n",
    "      perform a task.Programming can be done using a variety of computer programming languages,\n",
    "      such as Python,Javascript and C++."
   ]
  },
  {
   "cell_type": "code",
   "execution_count": null,
   "id": "241f4b05",
   "metadata": {},
   "outputs": [],
   "source": [
    "What is Python?  \n",
    "\n",
    "->Python is a Popular Programming Language.Python can be used on a server to create web\n",
    "     applications.It was created by Guido Van Rossum,and released 1991.\n",
    "\n",
    "It is used for :\n",
    "\n",
    "-Web Development\n",
    "-Mathematics\n",
    "-System Scripting\n",
    "-Software development\n"
   ]
  }
 ],
 "metadata": {
  "kernelspec": {
   "display_name": "Python 3 (ipykernel)",
   "language": "python",
   "name": "python3"
  },
  "language_info": {
   "codemirror_mode": {
    "name": "ipython",
    "version": 3
   },
   "file_extension": ".py",
   "mimetype": "text/x-python",
   "name": "python",
   "nbconvert_exporter": "python",
   "pygments_lexer": "ipython3",
   "version": "3.9.13"
  }
 },
 "nbformat": 4,
 "nbformat_minor": 5
}
